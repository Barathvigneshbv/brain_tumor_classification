{
 "cells": [
  {
   "cell_type": "code",
   "execution_count": 1,
   "id": "fad34a9d",
   "metadata": {},
   "outputs": [],
   "source": [
    "import tensorflow as tf\n",
    "import random as rn\n",
    "\n",
    "# specifically for manipulating zipped images and getting numpy arrays of pixel values of images.\n",
    "import cv2                  \n",
    "import numpy as np  "
   ]
  },
  {
   "cell_type": "code",
   "execution_count": 23,
   "id": "5f6ef659",
   "metadata": {},
   "outputs": [
    {
     "name": "stdout",
     "output_type": "stream",
     "text": [
      "[[1.4526510e-02 7.3593137e-06 9.8465133e-01 8.1478985e-04]]\n",
      "[2]\n"
     ]
    }
   ],
   "source": [
    "model = tf.keras.models.load_model('effnet.h5')\n",
    "\n",
    "# model.compile(loss='binary_crossentropy',\n",
    "#               optimizer='rmsprop',\n",
    "#               metrics=['accuracy'])\n",
    "\n",
    "img = cv2.imread('m1.jpg')\n",
    "img = cv2.resize(img,(224, 224))\n",
    "img = np.reshape(img,[1,224, 224, 3])\n",
    "\n",
    "classes = model.predict(img)\n",
    "y_classes = classes.argmax(axis=-1)\n",
    "print(classes)\n",
    "print(y_classes)"
   ]
  },
  {
   "cell_type": "code",
   "execution_count": 9,
   "id": "f55acde3",
   "metadata": {},
   "outputs": [
    {
     "name": "stdout",
     "output_type": "stream",
     "text": [
      "INFO:tensorflow:Assets written to: C:\\Users\\aa\\AppData\\Local\\Temp\\tmptra2gkvv\\assets\n"
     ]
    },
    {
     "name": "stderr",
     "output_type": "stream",
     "text": [
      "WARNING:absl:Buffer deduplication procedure will be skipped when flatbuffer library is not properly loaded\n"
     ]
    },
    {
     "data": {
      "text/plain": [
       "26061580"
      ]
     },
     "execution_count": 9,
     "metadata": {},
     "output_type": "execute_result"
    }
   ],
   "source": [
    "import tensorflow as tf\n",
    "\n",
    "model = tf.keras.models.load_model('effnet.h5')\n",
    "converter = tf.lite.TFLiteConverter.from_keras_model(model)\n",
    "tflite_model = converter.convert()\n",
    "open(\"converted_model.tflite\", \"wb\").write(tflite_model)"
   ]
  },
  {
   "cell_type": "code",
   "execution_count": 18,
   "id": "819713be",
   "metadata": {},
   "outputs": [
    {
     "name": "stdout",
     "output_type": "stream",
     "text": [
      "INFO:tensorflow:Assets written to: C:\\Users\\aa\\AppData\\Local\\Temp\\tmp0tyansgp\\assets\n"
     ]
    },
    {
     "name": "stderr",
     "output_type": "stream",
     "text": [
      "INFO:tensorflow:Assets written to: C:\\Users\\aa\\AppData\\Local\\Temp\\tmp0tyansgp\\assets\n",
      "WARNING:absl:Buffer deduplication procedure will be skipped when flatbuffer library is not properly loaded\n"
     ]
    },
    {
     "data": {
      "text/plain": [
       "26061580"
      ]
     },
     "execution_count": 18,
     "metadata": {},
     "output_type": "execute_result"
    }
   ],
   "source": [
    "import tensorflow as tf\n",
    "from tensorflow import lite\n",
    "from tensorflow.keras.models import load_model\n",
    "converter = lite.TFLiteConverter.from_keras_model(model)\n",
    "tfmodel = converter.convert()\n",
    "open (\"model.tflite\" , \"wb\") .write(tfmodel)"
   ]
  },
  {
   "cell_type": "code",
   "execution_count": 14,
   "id": "c25aa725",
   "metadata": {},
   "outputs": [],
   "source": [
    "import tensorflow as tf\n",
    "import numpy as np\n",
    "from PIL import Image\n",
    "\n",
    "\n",
    "class TensorflowLiteClassificationModel:\n",
    "    def __init__(self, model_path, image_size=224):\n",
    "        self.interpreter = tf.lite.Interpreter(model_path=model_path)\n",
    "        self.interpreter.allocate_tensors()\n",
    "        self._input_details = self.interpreter.get_input_details()\n",
    "        self._output_details = self.interpreter.get_output_details()\n",
    "        self.labels = labels\n",
    "        self.image_size=image_size\n",
    "\n",
    "    def run_from_filepath(self, image_path):\n",
    "        input_data_type = self._input_details[0][\"dtype\"]\n",
    "        image = np.array(Image.open(image_path).resize((self.image_size, self.image_size)), dtype=input_data_type)\n",
    "        if input_data_type == np.float32:\n",
    "            image = image / 255.\n",
    "\n",
    "        if image.shape == (1, 224, 224):\n",
    "            image = np.stack(image*3, axis=0)\n",
    "\n",
    "        return self.run(image)\n",
    "\n",
    "    def run(self, image):\n",
    "        \"\"\"\n",
    "        args:\n",
    "          image: a (1, image_size, image_size, 3) np.array\n",
    "\n",
    "        Returns list of [Label, Probability], of type List<str, float>\n",
    "        \"\"\"\n",
    "\n",
    "        self.interpreter.set_tensor(self._input_details[0][\"index\"], image)\n",
    "        self.interpreter.invoke()\n",
    "        tflite_interpreter_output = self.interpreter.get_tensor(self._output_details[0][\"index\"])\n",
    "        probabilities = np.array(tflite_interpreter_output[0])\n",
    "\n",
    "        # create list of [\"label\", probability], ordered descending probability\n",
    "        label_to_probabilities = []\n",
    "        for i, probability in enumerate(probabilities):\n",
    "            label_to_probabilities.append([self.labels[i], float(probability)])\n",
    "        return sorted(label_to_probabilities, key=lambda element: element[1])"
   ]
  },
  {
   "cell_type": "code",
   "execution_count": 17,
   "id": "b6515ea4",
   "metadata": {},
   "outputs": [
    {
     "ename": "NameError",
     "evalue": "name 'labels' is not defined",
     "output_type": "error",
     "traceback": [
      "\u001b[1;31m---------------------------------------------------------------------------\u001b[0m",
      "\u001b[1;31mNameError\u001b[0m                                 Traceback (most recent call last)",
      "Input \u001b[1;32mIn [17]\u001b[0m, in \u001b[0;36m<module>\u001b[1;34m\u001b[0m\n\u001b[1;32m----> 1\u001b[0m model \u001b[38;5;241m=\u001b[39m \u001b[43mTensorflowLiteClassificationModel\u001b[49m\u001b[43m(\u001b[49m\u001b[38;5;124;43m\"\u001b[39;49m\u001b[38;5;124;43mmodel.tflite\u001b[39;49m\u001b[38;5;124;43m\"\u001b[39;49m\u001b[43m)\u001b[49m\n\u001b[0;32m      2\u001b[0m (labels,probability) \u001b[38;5;241m=\u001b[39m model\u001b[38;5;241m.\u001b[39mrun_from_filepath(\u001b[38;5;124m\"\u001b[39m\u001b[38;5;124mm1.jpg\u001b[39m\u001b[38;5;124m\"\u001b[39m)\n",
      "Input \u001b[1;32mIn [14]\u001b[0m, in \u001b[0;36mTensorflowLiteClassificationModel.__init__\u001b[1;34m(self, model_path, image_size)\u001b[0m\n\u001b[0;32m     10\u001b[0m \u001b[38;5;28mself\u001b[39m\u001b[38;5;241m.\u001b[39m_input_details \u001b[38;5;241m=\u001b[39m \u001b[38;5;28mself\u001b[39m\u001b[38;5;241m.\u001b[39minterpreter\u001b[38;5;241m.\u001b[39mget_input_details()\n\u001b[0;32m     11\u001b[0m \u001b[38;5;28mself\u001b[39m\u001b[38;5;241m.\u001b[39m_output_details \u001b[38;5;241m=\u001b[39m \u001b[38;5;28mself\u001b[39m\u001b[38;5;241m.\u001b[39minterpreter\u001b[38;5;241m.\u001b[39mget_output_details()\n\u001b[1;32m---> 12\u001b[0m \u001b[38;5;28mself\u001b[39m\u001b[38;5;241m.\u001b[39mlabels \u001b[38;5;241m=\u001b[39m \u001b[43mlabels\u001b[49m\n\u001b[0;32m     13\u001b[0m \u001b[38;5;28mself\u001b[39m\u001b[38;5;241m.\u001b[39mimage_size\u001b[38;5;241m=\u001b[39mimage_size\n",
      "\u001b[1;31mNameError\u001b[0m: name 'labels' is not defined"
     ]
    }
   ],
   "source": [
    "model = TensorflowLiteClassificationModel(\"model.tflite\")\n",
    "(labels,probability) = model.run_from_filepath(\"m1.jpg\")"
   ]
  },
  {
   "cell_type": "code",
   "execution_count": 26,
   "id": "18d6b2d4",
   "metadata": {},
   "outputs": [
    {
     "name": "stdout",
     "output_type": "stream",
     "text": [
      "INFO:tensorflow:Assets written to: assets\n"
     ]
    },
    {
     "name": "stderr",
     "output_type": "stream",
     "text": [
      "INFO:tensorflow:Assets written to: assets\n"
     ]
    },
    {
     "name": "stdout",
     "output_type": "stream",
     "text": [
      "INFO:tensorflow:Assets written to: C:\\Users\\aa\\AppData\\Local\\Temp\\tmp_lrn1y5d\\assets\n"
     ]
    },
    {
     "name": "stderr",
     "output_type": "stream",
     "text": [
      "INFO:tensorflow:Assets written to: C:\\Users\\aa\\AppData\\Local\\Temp\\tmp_lrn1y5d\\assets\n",
      "WARNING:absl:Buffer deduplication procedure will be skipped when flatbuffer library is not properly loaded\n"
     ]
    },
    {
     "name": "stdout",
     "output_type": "stream",
     "text": [
      "[[5. 5. 5. 5. 5. 5. 5. 5. 5. 5.]]\n"
     ]
    }
   ],
   "source": [
    "class TestModel(tf.Module):\n",
    "  def __init__(self):\n",
    "    super(TestModel, self).__init__()\n",
    "\n",
    "  @tf.function(input_signature=[tf.TensorSpec(shape=[1, 10], dtype=tf.float32)])\n",
    "  def add(self, x):\n",
    "    '''\n",
    "    Simple method that accepts single input 'x' and returns 'x' + 4.\n",
    "    '''\n",
    "    # Name the output 'result' for convenience.\n",
    "    return {'result' : x + 4}\n",
    "\n",
    "\n",
    "SAVED_MODEL_PATH = ''\n",
    "TFLITE_FILE_PATH = 'model2.tflite'\n",
    "\n",
    "# Save the model\n",
    "module = TestModel()\n",
    "# You can omit the signatures argument and a default signature name will be\n",
    "# created with name 'serving_default'.\n",
    "tf.saved_model.save(\n",
    "    module, SAVED_MODEL_PATH,\n",
    "    signatures={'my_signature':module.add.get_concrete_function()})\n",
    "\n",
    "# Convert the model using TFLiteConverter\n",
    "converter = tf.lite.TFLiteConverter.from_saved_model(SAVED_MODEL_PATH)\n",
    "tflite_model = converter.convert()\n",
    "with open(TFLITE_FILE_PATH, 'wb') as f:\n",
    "  f.write(tflite_model)\n",
    "\n",
    "# Load the TFLite model in TFLite Interpreter\n",
    "interpreter = tf.lite.Interpreter(TFLITE_FILE_PATH)\n",
    "# There is only 1 signature defined in the model,\n",
    "# so it will return it by default.\n",
    "# If there are multiple signatures then we can pass the name.\n",
    "my_signature = interpreter.get_signature_runner()\n",
    "\n",
    "# my_signature is callable with input as arguments.\n",
    "output = my_signature(x=tf.constant([1.0], shape=(1,10), dtype=tf.float32))\n",
    "# 'output' is dictionary with all outputs from the inference.\n",
    "# In this case we have single output 'result'.\n",
    "print(output['result'])"
   ]
  },
  {
   "cell_type": "code",
   "execution_count": 29,
   "id": "2645c3d6",
   "metadata": {},
   "outputs": [
    {
     "name": "stdout",
     "output_type": "stream",
     "text": [
      "[[4.94683   4.4221177 4.225174  4.234222  4.123648  4.793378  4.2161126\n",
      "  4.5080223 4.8622055 4.969703 ]]\n"
     ]
    }
   ],
   "source": [
    "import numpy as np\n",
    "import tensorflow as tf\n",
    "\n",
    "# Load TFLite model and allocate tensors.\n",
    "interpreter = tf.lite.Interpreter(model_path=\"model2.tflite\")\n",
    "interpreter.allocate_tensors()\n",
    "\n",
    "# Get input and output tensors.\n",
    "input_details = interpreter.get_input_details()\n",
    "output_details = interpreter.get_output_details()\n",
    "\n",
    "# Test model on random input data.\n",
    "input_shape = input_details[0]['shape']\n",
    "input_data = np.array(np.random.random_sample(input_shape), dtype=np.float32)\n",
    "interpreter.set_tensor(input_details[0]['index'], input_data)\n",
    "\n",
    "interpreter.invoke()\n",
    "\n",
    "# The function `get_tensor()` returns a copy of the tensor data.\n",
    "# Use `tensor()` in order to get a pointer to the tensor.\n",
    "output_data = interpreter.get_tensor(output_details[0]['index'])\n",
    "print(output_data)"
   ]
  },
  {
   "cell_type": "code",
   "execution_count": 35,
   "id": "9767594f",
   "metadata": {},
   "outputs": [
    {
     "name": "stdout",
     "output_type": "stream",
     "text": [
      "[[0.0101521  0.96033436 0.0158078  0.0137058 ]]\n"
     ]
    }
   ],
   "source": [
    "import numpy as np\n",
    "import tensorflow as tf\n",
    "\n",
    "# Load TFLite model and allocate tensors.\n",
    "interpreter = tf.lite.Interpreter(model_path=\"model1.tflite\")\n",
    "interpreter.allocate_tensors()\n",
    "\n",
    "# Get input and output tensors.\n",
    "input_details = interpreter.get_input_details()\n",
    "output_details = interpreter.get_output_details()\n",
    "\n",
    "# Test model on random input data.\n",
    "input_shape = input_details[0]['shape']\n",
    "input_data = np.array(np.random.random_sample(input_shape), dtype=np.float32)\n",
    "interpreter.set_tensor(input_details[0]['index'], input_data)\n",
    "\n",
    "interpreter.invoke()\n",
    "\n",
    "# The function `get_tensor()` returns a copy of the tensor data.\n",
    "# Use `tensor()` in order to get a pointer to the tensor.\n",
    "output_data = interpreter.get_tensor(output_details[0]['index'])\n",
    "print(output_data)"
   ]
  },
  {
   "cell_type": "code",
   "execution_count": null,
   "id": "dc9f5813",
   "metadata": {},
   "outputs": [],
   "source": []
  },
  {
   "cell_type": "code",
   "execution_count": null,
   "id": "3f74c159",
   "metadata": {},
   "outputs": [],
   "source": []
  }
 ],
 "metadata": {
  "kernelspec": {
   "display_name": "Python 3 (ipykernel)",
   "language": "python",
   "name": "python3"
  },
  "language_info": {
   "codemirror_mode": {
    "name": "ipython",
    "version": 3
   },
   "file_extension": ".py",
   "mimetype": "text/x-python",
   "name": "python",
   "nbconvert_exporter": "python",
   "pygments_lexer": "ipython3",
   "version": "3.8.0"
  }
 },
 "nbformat": 4,
 "nbformat_minor": 5
}
